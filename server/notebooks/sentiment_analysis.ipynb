{
 "cells": [
  {
   "cell_type": "code",
   "execution_count": 1,
   "metadata": {},
   "outputs": [
    {
     "name": "stdout",
     "output_type": "stream",
     "text": [
      "Note: you may need to restart the kernel to use updated packages.\n"
     ]
    }
   ],
   "source": [
    "%pip install -q -U google-generativeai"
   ]
  },
  {
   "cell_type": "code",
   "execution_count": 4,
   "metadata": {},
   "outputs": [
    {
     "name": "stdout",
     "output_type": "stream",
     "text": [
      "None\n"
     ]
    }
   ],
   "source": [
    "import textwrap\n",
    "import os\n",
    "\n",
    "import google.generativeai as genai\n",
    "\n",
    "from IPython.display import display\n",
    "from IPython.display import Markdown\n",
    "\n",
    "\n",
    "def to_markdown(text):\n",
    "    text = text.replace('•', '  *')\n",
    "    return Markdown(textwrap.indent(text, '> ', predicate=lambda _: True))"
   ]
  },
  {
   "cell_type": "code",
   "execution_count": 7,
   "metadata": {},
   "outputs": [],
   "source": [
    "genai.configure(api_key=\"KEY\")\n",
    "model = genai.GenerativeModel('gemini-pro')"
   ]
  },
  {
   "cell_type": "code",
   "execution_count": 22,
   "metadata": {},
   "outputs": [
    {
     "data": {
      "text/markdown": [
       "> **Sarah:**\n",
       "> - **Overall mood:** Positive and organized\n",
       "> - **Participation:** Facilitating the meeting, setting agenda, and summarizing decisions\n",
       "> \n",
       "> **Michael:**\n",
       "> - **Overall mood:** Enthusiastic and proactive\n",
       "> - **Participation:** Suggesting a theme, reaching out to potential sponsors, and handling logistics\n",
       "> \n",
       "> **Emily:**\n",
       "> - **Overall mood:** Creative and engaged\n",
       "> - **Participation:** Proposing the theme, discussing event details, and promoting the event\n",
       "> \n",
       "> **David:**\n",
       "> - **Overall mood:** Collaborative and supportive\n",
       "> - **Participation:** Supporting the theme, suggesting focus areas for the hackathon, and securing sponsorships and speakers"
      ],
      "text/plain": [
       "<IPython.core.display.Markdown object>"
      ]
     },
     "execution_count": 22,
     "metadata": {},
     "output_type": "execute_result"
    }
   ],
   "source": [
    "chat = model.start_chat(history=[])\n",
    "\n",
    "res = chat.send_message('''\n",
    "Give me overall mood and participation of each participant in the meet provided the transcript below also remember to only answer and don't provide me prefixes like this is your answer \n",
    "\n",
    "Sarah: Alright everyone, let's get started. We need to finalize the details for our hackathon next month.\n",
    "\n",
    "Michael: Agreed. First things first, do we have a theme in mind?\n",
    "\n",
    "Emily: How about sustainability and tech? It's a pressing issue, and we could attract a diverse range of participants with that theme.\n",
    "\n",
    "David: I like that idea. We could focus on developing solutions for renewable energy, waste management, or even sustainable agriculture.\n",
    "\n",
    "Sarah: Great suggestion, Emily. Let's make sustainability the theme for this year's hackathon. Now, we need to decide on the venue and date.\n",
    "\n",
    "Michael: I've been in touch with a few local tech companies, and some of them are willing to sponsor our event and provide their space for the hackathon.\n",
    "\n",
    "Emily: That sounds perfect. How about we aim for the second weekend of next month? It gives us enough time to promote the event and for participants to prepare.\n",
    "\n",
    "David: Agreed. We should start reaching out to potential sponsors and speakers too. The more support we have, the better the event will be.\n",
    "\n",
    "Sarah: Alright, so we'll lock in the theme as sustainability, aim for the second weekend of next month, and start reaching out to sponsors and speakers. Anything else we need to discuss?\n",
    "\n",
    "Michael: I think that covers it for now. Let's divide tasks among ourselves and start working on making this hackathon a success.\n",
    "\n",
    "Emily: Sounds like a plan. Let's make this the best hackathon our committee has ever hosted!\n",
    "''')\n",
    "\n",
    "to_markdown(res.text)\n",
    "# print(res.text)"
   ]
  },
  {
   "cell_type": "code",
   "execution_count": 23,
   "metadata": {},
   "outputs": [
    {
     "data": {
      "text/markdown": [
       "> **Word count:**\n",
       "> \n",
       "> - Sarah: 32 words\n",
       "> - Michael: 34 words\n",
       "> - Emily: 40 words\n",
       "> - David: 30 words\n",
       "> \n",
       "> **Most frequently used word/phrase:**\n",
       "> \n",
       "> The most frequently used word in the transcript is **\"we\"**, which appears 7 times. This suggests that the participants are focused on working together and collaborating to make the hackathon a success.\n",
       "> \n",
       "> Other frequently used words/phrases include:\n",
       "> \n",
       "> - **hackathon** (5 times)\n",
       "> - **sustainability** (4 times)\n",
       "> - **event** (3 times)\n",
       "> - **sponsor(s)** (3 times)\n",
       "> - **let's** (3 times)\n",
       "> \n",
       "> These words/phrases reflect the main topics of discussion in the meeting, which are planning the hackathon theme, venue, date, and sponsorships."
      ],
      "text/plain": [
       "<IPython.core.display.Markdown object>"
      ]
     },
     "execution_count": 23,
     "metadata": {},
     "output_type": "execute_result"
    }
   ],
   "source": [
    "res = chat.send_message('Give Analysis like how many words each person has spoken, what was the most frequently used word/phrase based on the above transcript')\n",
    "\n",
    "to_markdown(res.text)"
   ]
  },
  {
   "cell_type": "code",
   "execution_count": null,
   "metadata": {},
   "outputs": [],
   "source": []
  }
 ],
 "metadata": {
  "kernelspec": {
   "display_name": "Python 3",
   "language": "python",
   "name": "python3"
  },
  "language_info": {
   "codemirror_mode": {
    "name": "ipython",
    "version": 3
   },
   "file_extension": ".py",
   "mimetype": "text/x-python",
   "name": "python",
   "nbconvert_exporter": "python",
   "pygments_lexer": "ipython3",
   "version": "3.10.13"
  }
 },
 "nbformat": 4,
 "nbformat_minor": 2
}
