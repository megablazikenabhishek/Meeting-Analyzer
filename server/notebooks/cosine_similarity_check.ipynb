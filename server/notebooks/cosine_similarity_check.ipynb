{
 "cells": [
  {
   "cell_type": "code",
   "execution_count": 5,
   "metadata": {},
   "outputs": [
    {
     "name": "stdout",
     "output_type": "stream",
     "text": [
      "Requirement already satisfied: scikit-learn in /home/codespace/.local/lib/python3.10/site-packages (1.4.0)\n",
      "Requirement already satisfied: nltk in /usr/local/python/3.10.13/lib/python3.10/site-packages (3.8.1)\n",
      "Requirement already satisfied: numpy<2.0,>=1.19.5 in /home/codespace/.local/lib/python3.10/site-packages (from scikit-learn) (1.26.4)\n",
      "Requirement already satisfied: scipy>=1.6.0 in /home/codespace/.local/lib/python3.10/site-packages (from scikit-learn) (1.12.0)\n",
      "Requirement already satisfied: joblib>=1.2.0 in /home/codespace/.local/lib/python3.10/site-packages (from scikit-learn) (1.3.2)\n",
      "Requirement already satisfied: threadpoolctl>=2.0.0 in /home/codespace/.local/lib/python3.10/site-packages (from scikit-learn) (3.2.0)\n",
      "Requirement already satisfied: click in /usr/local/python/3.10.13/lib/python3.10/site-packages (from nltk) (8.1.7)\n",
      "Requirement already satisfied: regex>=2021.8.3 in /usr/local/python/3.10.13/lib/python3.10/site-packages (from nltk) (2023.12.25)\n",
      "Requirement already satisfied: tqdm in /usr/local/python/3.10.13/lib/python3.10/site-packages (from nltk) (4.66.2)\n",
      "Note: you may need to restart the kernel to use updated packages.\n"
     ]
    },
    {
     "name": "stderr",
     "output_type": "stream",
     "text": [
      "[nltk_data] Downloading package punkt to /home/codespace/nltk_data...\n",
      "[nltk_data]   Unzipping tokenizers/punkt.zip.\n"
     ]
    },
    {
     "data": {
      "text/plain": [
       "True"
      ]
     },
     "execution_count": 5,
     "metadata": {},
     "output_type": "execute_result"
    }
   ],
   "source": [
    "%pip install scikit-learn nltk\n",
    "import nltk\n",
    "nltk.download('punkt')"
   ]
  },
  {
   "cell_type": "code",
   "execution_count": 5,
   "metadata": {},
   "outputs": [
    {
     "name": "stdout",
     "output_type": "stream",
     "text": [
      "Similarity: 88.72983346207418\n"
     ]
    }
   ],
   "source": [
    "from sklearn.feature_extraction.text import TfidfVectorizer\n",
    "from sklearn.metrics.pairwise import cosine_similarity\n",
    "\n",
    "# Example texts\n",
    "text1 = \"in simple terms nlp works by breaking down human language into smaller smaller pieces that a computer can understand\"\n",
    "text2 = \"in simple terms nlp works by breaking breaking down human language into smaller pieces that a computer can understand\"\n",
    "\n",
    "# Preprocess and vectorize the texts\n",
    "vectorizer = TfidfVectorizer()\n",
    "vectorized_text1 = vectorizer.fit_transform([text1])\n",
    "vectorized_text2 = vectorizer.transform([text2])\n",
    "\n",
    "# Calculate cosine similarity\n",
    "cosine_sim = cosine_similarity(vectorized_text1, vectorized_text2)[0][0]\n",
    "\n",
    "# Convert similarity to percentage\n",
    "similarity_percentage = (cosine_sim + 1) * 50\n",
    "\n",
    "print(\"Similarity:\", similarity_percentage)\n"
   ]
  },
  {
   "cell_type": "code",
   "execution_count": 7,
   "metadata": {},
   "outputs": [
    {
     "name": "stdout",
     "output_type": "stream",
     "text": [
      "['Hello world', 'Hi there', 'Hello dear', 'Good morning']\n"
     ]
    }
   ],
   "source": [
    "from sklearn.feature_extraction.text import CountVectorizer\n",
    "from sklearn.metrics.pairwise import cosine_similarity\n",
    "from nltk.tokenize import word_tokenize\n",
    "\n",
    "def preprocess_string(text):\n",
    "    return ' '.join(word_tokenize(text.lower()))\n",
    "\n",
    "def calculate_cosine_similarity(string1, string2):\n",
    "    # Preprocess the strings\n",
    "    string1 = preprocess_string(string1)\n",
    "    string2 = preprocess_string(string2)\n",
    "    \n",
    "    # Vectorize the strings\n",
    "    vectorizer = CountVectorizer().fit_transform([string1, string2])\n",
    "    vectors = vectorizer.toarray()\n",
    "    \n",
    "    # Calculate cosine similarity\n",
    "    similarity = cosine_similarity(vectors)[0, 1]\n",
    "    \n",
    "    return similarity\n",
    "\n",
    "def merge_strings(strings, threshold=0.5):\n",
    "    merged_strings = []\n",
    "    for string in strings:\n",
    "        merged = False\n",
    "        for i, merged_string in enumerate(merged_strings):\n",
    "            similarity = calculate_cosine_similarity(string, merged_string)\n",
    "            if similarity >= threshold:\n",
    "                merged_strings[i] += ' ' + string\n",
    "                merged = True\n",
    "                break\n",
    "        if not merged:\n",
    "            merged_strings.append(string)\n",
    "    return merged_strings\n",
    "\n",
    "# Example usage\n",
    "strings = [\"Hello world\", \"Hi there\", \"Hello dear\", \"Good morning\"]\n",
    "merged_strings = merge_strings(strings)\n",
    "print(merged_strings)\n"
   ]
  },
  {
   "cell_type": "code",
   "execution_count": null,
   "metadata": {},
   "outputs": [],
   "source": []
  }
 ],
 "metadata": {
  "kernelspec": {
   "display_name": "Python 3 (ipykernel)",
   "language": "python",
   "name": "python3"
  },
  "language_info": {
   "codemirror_mode": {
    "name": "ipython",
    "version": 3
   },
   "file_extension": ".py",
   "mimetype": "text/x-python",
   "name": "python",
   "nbconvert_exporter": "python",
   "pygments_lexer": "ipython3",
   "version": "3.10.13"
  }
 },
 "nbformat": 4,
 "nbformat_minor": 4
}
