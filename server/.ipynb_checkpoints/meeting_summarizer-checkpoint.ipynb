{
 "cells": [
  {
   "cell_type": "code",
   "execution_count": null,
   "metadata": {},
   "outputs": [],
   "source": [
    "!python3 --version"
   ]
  },
  {
   "cell_type": "code",
   "execution_count": null,
   "metadata": {},
   "outputs": [],
   "source": [
    "!pip install transformers"
   ]
  },
  {
   "cell_type": "code",
   "execution_count": null,
   "metadata": {},
   "outputs": [],
   "source": [
    "from transformers import AutoTokenizer, AutoModelForSeq2SeqLM\n",
    "\n",
    "tokenizer = AutoTokenizer.from_pretrained(\"knkarthick/MEETING_SUMMARY\", model_max_length=5000)\n",
    "model = AutoModelForSeq2SeqLM.from_pretrained(\"knkarthick/MEETING_SUMMARY\")"
   ]
  },
  {
   "cell_type": "code",
   "execution_count": null,
   "metadata": {},
   "outputs": [],
   "source": [
    "input_text = \"\"\"\n",
    "Sarah: Good morning, everyone! Thank you for joining today's meeting. As we look forward to the future of our company, I'm excited to hear your insights and ideas on how we can continue to innovate and grow. Let's start by discussing our current strengths and areas for improvement.\n",
    "\n",
    "Michael: Our financials look strong, especially considering the challenges of the past year. However, I believe we need to diversify our revenue streams to ensure long-term stability.\n",
    "\n",
    "Rachel: I agree. We should explore new markets and possibly expand our product line to capture a larger share of the market.\n",
    "\n",
    "David: From a marketing perspective, I think we need to enhance our digital presence and invest more in targeted advertising to reach potential customers more effectively.\n",
    "\n",
    "Emily: Building on that, we should prioritize research and development to stay ahead of the competition. Innovation is key to sustaining our growth.\n",
    "\n",
    "Jason: Absolutely. Investing in new technologies like AI and automation can streamline our processes and improve the quality of our products.\n",
    "\n",
    "Lisa: As we expand, we also need to focus on talent acquisition and retention. Our employees are our most valuable asset, and we must nurture a culture of collaboration and innovation.\n",
    "\n",
    "Alex: On the sales front, we need to strengthen our relationships with existing clients while aggressively pursuing new opportunities. A proactive approach to sales will be crucial in driving revenue growth.\n",
    "\n",
    "Olivia: Customer experience is paramount. We need to ensure that every interaction with our brand leaves a positive impression, from pre-sales inquiries to post-purchase support.\n",
    "\n",
    "Daniel: As a senior advisor, I believe it's essential for us to stay agile and adaptable in the face of uncertainty. The business landscape is constantly evolving, and we must be prepared to pivot when necessary.\n",
    "\n",
    "Sarah: Thank you all for your valuable input. It's clear that there are exciting opportunities ahead for our company. Let's continue to work together to turn these visions into reality and achieve even greater success in the future.\n",
    "\"\"\"\n",
    "\n",
    "inputs = tokenizer(input_text, return_tensors=\"pt\", max_length=5000, truncation=True)\n",
    "\n",
    "summary_ids = model.generate(inputs[\"input_ids\"], max_length=500, min_length=250, length_penalty=0.5, num_beams=4, early_stopping=False)\n",
    "\n",
    "summary = tokenizer.decode(summary_ids[0], skip_special_tokens=True)\n",
    "\n",
    "print(\"Original Text:\")\n",
    "print(input_text)\n",
    "print(\"\\nSummarized Text:\")\n",
    "print(summary)\n"
   ]
  }
 ],
 "metadata": {
  "language_info": {
   "name": "python"
  }
 },
 "nbformat": 4,
 "nbformat_minor": 2
}
