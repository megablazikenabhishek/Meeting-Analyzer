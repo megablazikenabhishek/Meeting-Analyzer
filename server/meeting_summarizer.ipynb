{
 "cells": [
  {
   "cell_type": "code",
   "execution_count": 1,
   "metadata": {},
   "outputs": [
    {
     "name": "stderr",
     "output_type": "stream",
     "text": [
      "UsageError: Line magic function `%python` not found (But cell magic `%%python` exists, did you mean that instead?).\n"
     ]
    }
   ],
   "source": [
    "%python --version"
   ]
  },
  {
   "cell_type": "code",
   "execution_count": 2,
   "metadata": {
    "scrolled": true
   },
   "outputs": [
    {
     "name": "stdout",
     "output_type": "stream",
     "text": [
      "Requirement already satisfied: transformers in /usr/local/python/3.10.13/lib/python3.10/site-packages (4.38.1)\n",
      "Requirement already satisfied: torch in /usr/local/python/3.10.13/lib/python3.10/site-packages (2.2.1)\n",
      "Requirement already satisfied: torchvision in /usr/local/python/3.10.13/lib/python3.10/site-packages (0.17.1)\n",
      "Requirement already satisfied: torchaudio in /usr/local/python/3.10.13/lib/python3.10/site-packages (2.2.1)\n",
      "Requirement already satisfied: filelock in /home/codespace/.local/lib/python3.10/site-packages (from transformers) (3.13.1)\n",
      "Requirement already satisfied: huggingface-hub<1.0,>=0.19.3 in /usr/local/python/3.10.13/lib/python3.10/site-packages (from transformers) (0.20.3)\n",
      "Requirement already satisfied: numpy>=1.17 in /home/codespace/.local/lib/python3.10/site-packages (from transformers) (1.26.4)\n",
      "Requirement already satisfied: packaging>=20.0 in /home/codespace/.local/lib/python3.10/site-packages (from transformers) (23.2)\n",
      "Requirement already satisfied: pyyaml>=5.1 in /home/codespace/.local/lib/python3.10/site-packages (from transformers) (6.0.1)\n",
      "Requirement already satisfied: regex!=2019.12.17 in /usr/local/python/3.10.13/lib/python3.10/site-packages (from transformers) (2023.12.25)\n",
      "Requirement already satisfied: requests in /home/codespace/.local/lib/python3.10/site-packages (from transformers) (2.31.0)\n",
      "Requirement already satisfied: tokenizers<0.19,>=0.14 in /usr/local/python/3.10.13/lib/python3.10/site-packages (from transformers) (0.15.2)\n",
      "Requirement already satisfied: safetensors>=0.4.1 in /usr/local/python/3.10.13/lib/python3.10/site-packages (from transformers) (0.4.2)\n",
      "Requirement already satisfied: tqdm>=4.27 in /usr/local/python/3.10.13/lib/python3.10/site-packages (from transformers) (4.66.2)\n",
      "Requirement already satisfied: typing-extensions>=4.8.0 in /home/codespace/.local/lib/python3.10/site-packages (from torch) (4.9.0)\n",
      "Requirement already satisfied: sympy in /home/codespace/.local/lib/python3.10/site-packages (from torch) (1.12)\n",
      "Requirement already satisfied: networkx in /home/codespace/.local/lib/python3.10/site-packages (from torch) (3.2.1)\n",
      "Requirement already satisfied: jinja2 in /home/codespace/.local/lib/python3.10/site-packages (from torch) (3.1.3)\n",
      "Requirement already satisfied: fsspec in /home/codespace/.local/lib/python3.10/site-packages (from torch) (2024.2.0)\n",
      "Requirement already satisfied: nvidia-cuda-nvrtc-cu12==12.1.105 in /home/codespace/.local/lib/python3.10/site-packages (from torch) (12.1.105)\n",
      "Requirement already satisfied: nvidia-cuda-runtime-cu12==12.1.105 in /home/codespace/.local/lib/python3.10/site-packages (from torch) (12.1.105)\n",
      "Requirement already satisfied: nvidia-cuda-cupti-cu12==12.1.105 in /home/codespace/.local/lib/python3.10/site-packages (from torch) (12.1.105)\n",
      "Requirement already satisfied: nvidia-cudnn-cu12==8.9.2.26 in /home/codespace/.local/lib/python3.10/site-packages (from torch) (8.9.2.26)\n",
      "Requirement already satisfied: nvidia-cublas-cu12==12.1.3.1 in /home/codespace/.local/lib/python3.10/site-packages (from torch) (12.1.3.1)\n",
      "Requirement already satisfied: nvidia-cufft-cu12==11.0.2.54 in /home/codespace/.local/lib/python3.10/site-packages (from torch) (11.0.2.54)\n",
      "Requirement already satisfied: nvidia-curand-cu12==10.3.2.106 in /home/codespace/.local/lib/python3.10/site-packages (from torch) (10.3.2.106)\n",
      "Requirement already satisfied: nvidia-cusolver-cu12==11.4.5.107 in /home/codespace/.local/lib/python3.10/site-packages (from torch) (11.4.5.107)\n",
      "Requirement already satisfied: nvidia-cusparse-cu12==12.1.0.106 in /home/codespace/.local/lib/python3.10/site-packages (from torch) (12.1.0.106)\n",
      "Requirement already satisfied: nvidia-nccl-cu12==2.19.3 in /home/codespace/.local/lib/python3.10/site-packages (from torch) (2.19.3)\n",
      "Requirement already satisfied: nvidia-nvtx-cu12==12.1.105 in /home/codespace/.local/lib/python3.10/site-packages (from torch) (12.1.105)\n",
      "Requirement already satisfied: triton==2.2.0 in /home/codespace/.local/lib/python3.10/site-packages (from torch) (2.2.0)\n",
      "Requirement already satisfied: nvidia-nvjitlink-cu12 in /home/codespace/.local/lib/python3.10/site-packages (from nvidia-cusolver-cu12==11.4.5.107->torch) (12.3.101)\n",
      "Requirement already satisfied: pillow!=8.3.*,>=5.3.0 in /home/codespace/.local/lib/python3.10/site-packages (from torchvision) (10.2.0)\n",
      "Requirement already satisfied: MarkupSafe>=2.0 in /home/codespace/.local/lib/python3.10/site-packages (from jinja2->torch) (2.1.5)\n",
      "Requirement already satisfied: charset-normalizer<4,>=2 in /home/codespace/.local/lib/python3.10/site-packages (from requests->transformers) (3.3.2)\n",
      "Requirement already satisfied: idna<4,>=2.5 in /home/codespace/.local/lib/python3.10/site-packages (from requests->transformers) (3.6)\n",
      "Requirement already satisfied: urllib3<3,>=1.21.1 in /usr/local/python/3.10.13/lib/python3.10/site-packages (from requests->transformers) (2.0.7)\n",
      "Requirement already satisfied: certifi>=2017.4.17 in /home/codespace/.local/lib/python3.10/site-packages (from requests->transformers) (2024.2.2)\n",
      "Requirement already satisfied: mpmath>=0.19 in /home/codespace/.local/lib/python3.10/site-packages (from sympy->torch) (1.3.0)\n",
      "Note: you may need to restart the kernel to use updated packages.\n"
     ]
    }
   ],
   "source": [
    "%pip install transformers torch torchvision torchaudio"
   ]
  },
  {
   "cell_type": "code",
   "execution_count": 3,
   "metadata": {},
   "outputs": [
    {
     "name": "stderr",
     "output_type": "stream",
     "text": [
      "/home/codespace/.python/current/lib/python3.10/site-packages/tqdm/auto.py:21: TqdmWarning: IProgress not found. Please update jupyter and ipywidgets. See https://ipywidgets.readthedocs.io/en/stable/user_install.html\n",
      "  from .autonotebook import tqdm as notebook_tqdm\n"
     ]
    }
   ],
   "source": [
    "from transformers import AutoTokenizer, AutoModelForSeq2SeqLM\n",
    "\n",
    "tokenizer = AutoTokenizer.from_pretrained(\"knkarthick/MEETING_SUMMARY\", model_max_length=5000)\n",
    "model = AutoModelForSeq2SeqLM.from_pretrained(\"knkarthick/MEETING_SUMMARY\")"
   ]
  },
  {
   "cell_type": "code",
   "execution_count": 4,
   "metadata": {},
   "outputs": [
    {
     "name": "stdout",
     "output_type": "stream",
     "text": [
      "Original Text:\n",
      "\n",
      "You : In participating in the Devin Knight hackathon presents an invaluable opportunity for me as a student to immerse myself in the world of technology and problem solving.\n",
      "You : It's a chance to apply the theoretical knowledge gained from my academic studies to real world challenges my skilled in software development.\n",
      "You : This is a test voice. This is a test voice.\n",
      "You : Test voice this is a test voice. Does a test voice? Participating in the debate night hackathon presents an invaluable opportunity for me as a student to immerse myself in the world of technology and problems.\n",
      "You : It's a chance to apply theoretical knowledge.\n",
      "You : Okay, my academic studies to real challenges only.\n",
      "You : Database are you? Hello, are you? This is a test voice.\n",
      "You : Okay. Participating in the debit night hackathon presents an invaluable opportunity for me is a student to immersed myself in the world of technology and problems.\n",
      "You : It's a chance to apply the theoretical knowledge came innovation.\n",
      "You : I'm eager to collaborate with like mindlessness learning from their expertise and share it insights protect the complex problems creatively.\n",
      "You : Moreover the hackathon environment posters a culture of innovation and collaboration that the lives perfectly was my aspirations.\n",
      "You : beyond the technical aspects as a planet that was industry professionals, but actually opening those to each right open on participating in debit night.\n",
      "You : Is it just about Building Solutions? It's about embracing the Journey of growth learning and connecting with the broader Tech Community.\n",
      "\n",
      "\n",
      "Summarized Text:\n",
      "In participating in the Devin Knight hackathon, You will apply the theoretical knowledge gained from his studies in software development to real world challenges. You will also participate in the debate night hackathon. You want to learn from the experience of industry professionals and build upon the culture of innovation and collaboration that exists in the hackathon environment. You are eager to work with people from the Tech Community to solve problems effectively. You think that the project is not just about building solutions, but also about embracing the Journey of growth learning and connecting with the broader Tech Community. You is excited about the opportunities presented by participating in Deed Night hackathon and wants to share this with others.   .   \"   I am a student interested in technology and problems, I am eager to learn and work on this project. I am looking forward to participating in debit night.  I'm excited about this project.\"   - You.  \"I am interested in this project,  I want to work on it with people connected to the technology community,   i  ,  ...  I think this project is a great opportunity for learning and developing solutions. I'm eager to share my knowledge and ideas with others.\"\n"
     ]
    }
   ],
   "source": [
    "input_text = \"\"\"\n",
    "You : In participating in the Devin Knight hackathon presents an invaluable opportunity for me as a student to immerse myself in the world of technology and problem solving.\n",
    "You : It's a chance to apply the theoretical knowledge gained from my academic studies to real world challenges my skilled in software development.\n",
    "You : This is a test voice. This is a test voice.\n",
    "You : Test voice this is a test voice. Does a test voice? Participating in the debate night hackathon presents an invaluable opportunity for me as a student to immerse myself in the world of technology and problems.\n",
    "You : It's a chance to apply theoretical knowledge.\n",
    "You : Okay, my academic studies to real challenges only.\n",
    "You : Database are you? Hello, are you? This is a test voice.\n",
    "You : Okay. Participating in the debit night hackathon presents an invaluable opportunity for me is a student to immersed myself in the world of technology and problems.\n",
    "You : It's a chance to apply the theoretical knowledge came innovation.\n",
    "You : I'm eager to collaborate with like mindlessness learning from their expertise and share it insights protect the complex problems creatively.\n",
    "You : Moreover the hackathon environment posters a culture of innovation and collaboration that the lives perfectly was my aspirations.\n",
    "You : beyond the technical aspects as a planet that was industry professionals, but actually opening those to each right open on participating in debit night.\n",
    "You : Is it just about Building Solutions? It's about embracing the Journey of growth learning and connecting with the broader Tech Community.\n",
    "\"\"\"\n",
    "\n",
    "inputs = tokenizer(input_text, return_tensors=\"pt\", max_length=5000, truncation=True)\n",
    "\n",
    "summary_ids = model.generate(inputs[\"input_ids\"], max_length=500, min_length=250, length_penalty=0.5, num_beams=4, early_stopping=False)\n",
    "\n",
    "summary = tokenizer.decode(summary_ids[0], skip_special_tokens=True)\n",
    "\n",
    "print(\"Original Text:\")\n",
    "print(input_text)\n",
    "print(\"\\nSummarized Text:\")\n",
    "print(summary)\n"
   ]
  },
  {
   "cell_type": "code",
   "execution_count": null,
   "metadata": {},
   "outputs": [],
   "source": []
  }
 ],
 "metadata": {
  "kernelspec": {
   "display_name": "Python 3 (ipykernel)",
   "language": "python",
   "name": "python3"
  },
  "language_info": {
   "codemirror_mode": {
    "name": "ipython",
    "version": 3
   },
   "file_extension": ".py",
   "mimetype": "text/x-python",
   "name": "python",
   "nbconvert_exporter": "python",
   "pygments_lexer": "ipython3",
   "version": "3.10.13"
  }
 },
 "nbformat": 4,
 "nbformat_minor": 4
}
