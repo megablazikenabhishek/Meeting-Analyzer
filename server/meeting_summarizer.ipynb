{
 "cells": [
  {
   "cell_type": "code",
   "execution_count": 6,
   "metadata": {},
   "outputs": [
    {
     "name": "stderr",
     "output_type": "stream",
     "text": [
      "UsageError: Line magic function `%python` not found (But cell magic `%%python` exists, did you mean that instead?).\n"
     ]
    }
   ],
   "source": [
    "%python --version"
   ]
  },
  {
   "cell_type": "code",
   "execution_count": 7,
   "metadata": {
    "scrolled": true
   },
   "outputs": [
    {
     "name": "stderr",
     "output_type": "stream",
     "text": [
      "huggingface/tokenizers: The current process just got forked, after parallelism has already been used. Disabling parallelism to avoid deadlocks...\n",
      "To disable this warning, you can either:\n",
      "\t- Avoid using `tokenizers` before the fork if possible\n",
      "\t- Explicitly set the environment variable TOKENIZERS_PARALLELISM=(true | false)\n"
     ]
    },
    {
     "name": "stdout",
     "output_type": "stream",
     "text": [
      "Requirement already satisfied: transformers in /usr/local/python/3.10.13/lib/python3.10/site-packages (4.38.1)\n",
      "Requirement already satisfied: torch in /usr/local/python/3.10.13/lib/python3.10/site-packages (2.2.1)\n",
      "Requirement already satisfied: torchvision in /usr/local/python/3.10.13/lib/python3.10/site-packages (0.17.1)\n",
      "Requirement already satisfied: torchaudio in /usr/local/python/3.10.13/lib/python3.10/site-packages (2.2.1)\n",
      "Requirement already satisfied: filelock in /home/codespace/.local/lib/python3.10/site-packages (from transformers) (3.13.1)\n",
      "Requirement already satisfied: huggingface-hub<1.0,>=0.19.3 in /usr/local/python/3.10.13/lib/python3.10/site-packages (from transformers) (0.20.3)\n",
      "Requirement already satisfied: numpy>=1.17 in /home/codespace/.local/lib/python3.10/site-packages (from transformers) (1.26.4)\n",
      "Requirement already satisfied: packaging>=20.0 in /home/codespace/.local/lib/python3.10/site-packages (from transformers) (23.2)\n",
      "Requirement already satisfied: pyyaml>=5.1 in /home/codespace/.local/lib/python3.10/site-packages (from transformers) (6.0.1)\n",
      "Requirement already satisfied: regex!=2019.12.17 in /usr/local/python/3.10.13/lib/python3.10/site-packages (from transformers) (2023.12.25)\n",
      "Requirement already satisfied: requests in /home/codespace/.local/lib/python3.10/site-packages (from transformers) (2.31.0)\n",
      "Requirement already satisfied: tokenizers<0.19,>=0.14 in /usr/local/python/3.10.13/lib/python3.10/site-packages (from transformers) (0.15.2)\n",
      "Requirement already satisfied: safetensors>=0.4.1 in /usr/local/python/3.10.13/lib/python3.10/site-packages (from transformers) (0.4.2)\n",
      "Requirement already satisfied: tqdm>=4.27 in /usr/local/python/3.10.13/lib/python3.10/site-packages (from transformers) (4.66.2)\n",
      "Requirement already satisfied: typing-extensions>=4.8.0 in /home/codespace/.local/lib/python3.10/site-packages (from torch) (4.9.0)\n",
      "Requirement already satisfied: sympy in /home/codespace/.local/lib/python3.10/site-packages (from torch) (1.12)\n",
      "Requirement already satisfied: networkx in /home/codespace/.local/lib/python3.10/site-packages (from torch) (3.2.1)\n",
      "Requirement already satisfied: jinja2 in /home/codespace/.local/lib/python3.10/site-packages (from torch) (3.1.3)\n",
      "Requirement already satisfied: fsspec in /home/codespace/.local/lib/python3.10/site-packages (from torch) (2024.2.0)\n",
      "Requirement already satisfied: nvidia-cuda-nvrtc-cu12==12.1.105 in /home/codespace/.local/lib/python3.10/site-packages (from torch) (12.1.105)\n",
      "Requirement already satisfied: nvidia-cuda-runtime-cu12==12.1.105 in /home/codespace/.local/lib/python3.10/site-packages (from torch) (12.1.105)\n",
      "Requirement already satisfied: nvidia-cuda-cupti-cu12==12.1.105 in /home/codespace/.local/lib/python3.10/site-packages (from torch) (12.1.105)\n",
      "Requirement already satisfied: nvidia-cudnn-cu12==8.9.2.26 in /home/codespace/.local/lib/python3.10/site-packages (from torch) (8.9.2.26)\n",
      "Requirement already satisfied: nvidia-cublas-cu12==12.1.3.1 in /home/codespace/.local/lib/python3.10/site-packages (from torch) (12.1.3.1)\n",
      "Requirement already satisfied: nvidia-cufft-cu12==11.0.2.54 in /home/codespace/.local/lib/python3.10/site-packages (from torch) (11.0.2.54)\n",
      "Requirement already satisfied: nvidia-curand-cu12==10.3.2.106 in /home/codespace/.local/lib/python3.10/site-packages (from torch) (10.3.2.106)\n",
      "Requirement already satisfied: nvidia-cusolver-cu12==11.4.5.107 in /home/codespace/.local/lib/python3.10/site-packages (from torch) (11.4.5.107)\n",
      "Requirement already satisfied: nvidia-cusparse-cu12==12.1.0.106 in /home/codespace/.local/lib/python3.10/site-packages (from torch) (12.1.0.106)\n",
      "Requirement already satisfied: nvidia-nccl-cu12==2.19.3 in /home/codespace/.local/lib/python3.10/site-packages (from torch) (2.19.3)\n",
      "Requirement already satisfied: nvidia-nvtx-cu12==12.1.105 in /home/codespace/.local/lib/python3.10/site-packages (from torch) (12.1.105)\n",
      "Requirement already satisfied: triton==2.2.0 in /home/codespace/.local/lib/python3.10/site-packages (from torch) (2.2.0)\n",
      "Requirement already satisfied: nvidia-nvjitlink-cu12 in /home/codespace/.local/lib/python3.10/site-packages (from nvidia-cusolver-cu12==11.4.5.107->torch) (12.3.101)\n",
      "Requirement already satisfied: pillow!=8.3.*,>=5.3.0 in /home/codespace/.local/lib/python3.10/site-packages (from torchvision) (10.2.0)\n",
      "Requirement already satisfied: MarkupSafe>=2.0 in /home/codespace/.local/lib/python3.10/site-packages (from jinja2->torch) (2.1.5)\n",
      "Requirement already satisfied: charset-normalizer<4,>=2 in /home/codespace/.local/lib/python3.10/site-packages (from requests->transformers) (3.3.2)\n",
      "Requirement already satisfied: idna<4,>=2.5 in /home/codespace/.local/lib/python3.10/site-packages (from requests->transformers) (3.6)\n",
      "Requirement already satisfied: urllib3<3,>=1.21.1 in /usr/local/python/3.10.13/lib/python3.10/site-packages (from requests->transformers) (2.0.7)\n",
      "Requirement already satisfied: certifi>=2017.4.17 in /home/codespace/.local/lib/python3.10/site-packages (from requests->transformers) (2024.2.2)\n",
      "Requirement already satisfied: mpmath>=0.19 in /home/codespace/.local/lib/python3.10/site-packages (from sympy->torch) (1.3.0)\n",
      "Note: you may need to restart the kernel to use updated packages.\n"
     ]
    }
   ],
   "source": [
    "%pip install transformers torch torchvision torchaudio"
   ]
  },
  {
   "cell_type": "code",
   "execution_count": 8,
   "metadata": {},
   "outputs": [],
   "source": [
    "from transformers import AutoTokenizer, AutoModelForSeq2SeqLM\n",
    "\n",
    "tokenizer = AutoTokenizer.from_pretrained(\"knkarthick/MEETING_SUMMARY\", model_max_length=5000)\n",
    "model = AutoModelForSeq2SeqLM.from_pretrained(\"knkarthick/MEETING_SUMMARY\")"
   ]
  },
  {
   "cell_type": "code",
   "execution_count": 9,
   "metadata": {},
   "outputs": [
    {
     "name": "stdout",
     "output_type": "stream",
     "text": [
      "Original Text:\n",
      "\n",
      "Samantha: Hey everyone, I've been reading about artificial intelligence lately, and it's fascinating how it's being applied across various fields.\n",
      "\n",
      "Elijah: Absolutely, Samantha! In medicine, AI is making significant strides. For instance, it's helping us analyze medical images more accurately, leading to better diagnoses and treatment plans.\n",
      "\n",
      "Ava: That's interesting! In finance, AI algorithms are being used to detect fraudulent activities, assess credit risks, and even automate trading strategies.\n",
      "\n",
      "Liam: Wow, I never realized AI had such broad applications. In education, personalized learning platforms powered by AI can adapt to each student's learning pace and style, making education more effective and inclusive.\n",
      "\n",
      "Isabella: Absolutely! And let's not forget about its potential in environmental conservation. AI algorithms can analyze vast amounts of data from satellites and sensors to monitor deforestation, track wildlife populations, and even predict natural disasters.\n",
      "\n",
      "Samantha: It's incredible how AI is transforming so many areas of our lives. But I wonder, what are some of the challenges we might face in implementing AI across these fields?\n",
      "\n",
      "Elijah: Well, one challenge in healthcare is ensuring the privacy and security of patient data. With AI systems accessing sensitive medical information, it's crucial to have robust data protection measures in place.\n",
      "\n",
      "Ava: That's a valid concern. Similarly, in finance, the ethical use of AI is a hot topic. We need to ensure that algorithms are transparent and free from bias, especially when they're making decisions that can impact people's financial well-being.\n",
      "\n",
      "Liam: And in education, one challenge is ensuring that AI-powered platforms are accessible to all students, regardless of their background or abilities. We need to address issues of equity and inclusion to ensure that AI enhances, rather than exacerbates, existing educational disparities.\n",
      "\n",
      "Isabella: Absolutely. And in environmental science, the challenge lies in interpreting the vast amounts of data that AI systems generate. We need interdisciplinary collaboration to ensure that AI insights are translated into effective conservation policies and practices.\n",
      "\n",
      "Samantha: That's a great point, Isabella. Collaboration is key to overcoming these challenges. We need experts from various fields to work together and develop ethical and responsible AI solutions.\n",
      "\n",
      "Elijah: I agree, Samantha. And it's also essential to involve policymakers and regulatory bodies in the conversation to ensure that AI is deployed in a way that benefits society as a whole.\n",
      "\n",
      "Ava: Absolutely. Government regulations and industry standards can help ensure that AI technologies are developed and used responsibly, with consideration for ethical, legal, and societal implications.\n",
      "\n",
      "Liam: Additionally, it's crucial to invest in AI education and literacy to ensure that people understand how AI works and its potential impact on their lives. This will help foster public trust and acceptance of AI technologies.\n",
      "\n",
      "Isabella: I couldn't agree more. Education and transparency are key to building trust in AI. By demystifying AI and involving stakeholders in the development process, we can maximize its benefits while mitigating potential risks.\n",
      "\n",
      "Samantha: Well said, Isabella. It's clear that there's a lot of potential for AI to improve our lives, but it's essential to approach its development and implementation with caution and consideration for ethical and societal implications.\n",
      "\n",
      "Elijah: Absolutely. By addressing these challenges collaboratively and responsibly, we can harness the power of AI to address some of the most pressing issues facing humanity, from healthcare and finance to education and environmental conservation.\n",
      "\n",
      "Ava: I'm excited to see how AI continues to evolve and make a positive impact on society. With the right approach, I'm confident that AI can help us create a better future for all.\n",
      "\n",
      "Liam: Agreed. Let's continue to work together and advocate for the responsible and ethical development of AI. Together, we can shape a future where AI benefits everyone and helps us tackle some of the greatest challenges of our time.\n",
      "\n",
      "Isabella: Hear, hear! Here's to a future where AI is a force for good and helps us build a more sustainable and equitable world for future generations.\n",
      "\n",
      "\n",
      "Summarized Text:\n",
      "Samantha, Elijah, Ava, Isabella, Liam and Isabella are excited about the potential of artificial intelligence (AI). They discuss the challenges and opportunities presented by AI in various fields, such as healthcare, finance, education and environmental conservation. They also discuss the need to develop ethical and responsible AI solutions. They agree on the importance of promoting education and promoting the use of AI in order to foster public trust and acceptance of the technology. They all agree on promoting the development of responsible AI technology and promoting its use in society is key to their mutual benefit. They are also committed to working together to create a more sustainable future for all.  They agree that AI should be developed responsibly and used ethically.  .    i   I.  I   A.  i.  A   II.  II   III   (AI  II,  II -  I, I, II, II  III, III, IV, IV   IV,   V   N   E.  (I,  V,  I and I, and   Y,  Y   B,  N,  and  I)\n"
     ]
    }
   ],
   "source": [
    "input_text = \"\"\"\n",
    "Samantha: Hey everyone, I've been reading about artificial intelligence lately, and it's fascinating how it's being applied across various fields.\n",
    "\n",
    "Elijah: Absolutely, Samantha! In medicine, AI is making significant strides. For instance, it's helping us analyze medical images more accurately, leading to better diagnoses and treatment plans.\n",
    "\n",
    "Ava: That's interesting! In finance, AI algorithms are being used to detect fraudulent activities, assess credit risks, and even automate trading strategies.\n",
    "\n",
    "Liam: Wow, I never realized AI had such broad applications. In education, personalized learning platforms powered by AI can adapt to each student's learning pace and style, making education more effective and inclusive.\n",
    "\n",
    "Isabella: Absolutely! And let's not forget about its potential in environmental conservation. AI algorithms can analyze vast amounts of data from satellites and sensors to monitor deforestation, track wildlife populations, and even predict natural disasters.\n",
    "\n",
    "Samantha: It's incredible how AI is transforming so many areas of our lives. But I wonder, what are some of the challenges we might face in implementing AI across these fields?\n",
    "\n",
    "Elijah: Well, one challenge in healthcare is ensuring the privacy and security of patient data. With AI systems accessing sensitive medical information, it's crucial to have robust data protection measures in place.\n",
    "\n",
    "Ava: That's a valid concern. Similarly, in finance, the ethical use of AI is a hot topic. We need to ensure that algorithms are transparent and free from bias, especially when they're making decisions that can impact people's financial well-being.\n",
    "\n",
    "Liam: And in education, one challenge is ensuring that AI-powered platforms are accessible to all students, regardless of their background or abilities. We need to address issues of equity and inclusion to ensure that AI enhances, rather than exacerbates, existing educational disparities.\n",
    "\n",
    "Isabella: Absolutely. And in environmental science, the challenge lies in interpreting the vast amounts of data that AI systems generate. We need interdisciplinary collaboration to ensure that AI insights are translated into effective conservation policies and practices.\n",
    "\n",
    "Samantha: That's a great point, Isabella. Collaboration is key to overcoming these challenges. We need experts from various fields to work together and develop ethical and responsible AI solutions.\n",
    "\n",
    "Elijah: I agree, Samantha. And it's also essential to involve policymakers and regulatory bodies in the conversation to ensure that AI is deployed in a way that benefits society as a whole.\n",
    "\n",
    "Ava: Absolutely. Government regulations and industry standards can help ensure that AI technologies are developed and used responsibly, with consideration for ethical, legal, and societal implications.\n",
    "\n",
    "Liam: Additionally, it's crucial to invest in AI education and literacy to ensure that people understand how AI works and its potential impact on their lives. This will help foster public trust and acceptance of AI technologies.\n",
    "\n",
    "Isabella: I couldn't agree more. Education and transparency are key to building trust in AI. By demystifying AI and involving stakeholders in the development process, we can maximize its benefits while mitigating potential risks.\n",
    "\n",
    "Samantha: Well said, Isabella. It's clear that there's a lot of potential for AI to improve our lives, but it's essential to approach its development and implementation with caution and consideration for ethical and societal implications.\n",
    "\n",
    "Elijah: Absolutely. By addressing these challenges collaboratively and responsibly, we can harness the power of AI to address some of the most pressing issues facing humanity, from healthcare and finance to education and environmental conservation.\n",
    "\n",
    "Ava: I'm excited to see how AI continues to evolve and make a positive impact on society. With the right approach, I'm confident that AI can help us create a better future for all.\n",
    "\n",
    "Liam: Agreed. Let's continue to work together and advocate for the responsible and ethical development of AI. Together, we can shape a future where AI benefits everyone and helps us tackle some of the greatest challenges of our time.\n",
    "\n",
    "Isabella: Hear, hear! Here's to a future where AI is a force for good and helps us build a more sustainable and equitable world for future generations.\n",
    "\"\"\"\n",
    "\n",
    "inputs = tokenizer(input_text, return_tensors=\"pt\", max_length=5000, truncation=True)\n",
    "\n",
    "summary_ids = model.generate(inputs[\"input_ids\"], max_length=500, min_length=250, length_penalty=0.5, num_beams=4, early_stopping=False)\n",
    "\n",
    "summary = tokenizer.decode(summary_ids[0], skip_special_tokens=True)\n",
    "\n",
    "print(\"Original Text:\")\n",
    "print(input_text)\n",
    "print(\"\\nSummarized Text:\")\n",
    "print(summary)\n"
   ]
  },
  {
   "cell_type": "code",
   "execution_count": null,
   "metadata": {},
   "outputs": [],
   "source": []
  }
 ],
 "metadata": {
  "kernelspec": {
   "display_name": "Python 3 (ipykernel)",
   "language": "python",
   "name": "python3"
  },
  "language_info": {
   "codemirror_mode": {
    "name": "ipython",
    "version": 3
   },
   "file_extension": ".py",
   "mimetype": "text/x-python",
   "name": "python",
   "nbconvert_exporter": "python",
   "pygments_lexer": "ipython3",
   "version": "3.10.13"
  }
 },
 "nbformat": 4,
 "nbformat_minor": 4
}
