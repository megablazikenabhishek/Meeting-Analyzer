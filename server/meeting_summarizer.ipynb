{
 "cells": [
  {
   "cell_type": "code",
   "execution_count": 1,
   "metadata": {},
   "outputs": [
    {
     "name": "stderr",
     "output_type": "stream",
     "text": [
      "UsageError: Line magic function `%python` not found (But cell magic `%%python` exists, did you mean that instead?).\n"
     ]
    }
   ],
   "source": [
    "%python --version"
   ]
  },
  {
   "cell_type": "code",
   "execution_count": 2,
   "metadata": {
    "scrolled": true
   },
   "outputs": [
    {
     "name": "stdout",
     "output_type": "stream",
     "text": [
      "Requirement already satisfied: transformers in /usr/local/python/3.10.13/lib/python3.10/site-packages (4.38.1)\n",
      "Requirement already satisfied: torch in /usr/local/python/3.10.13/lib/python3.10/site-packages (2.2.1)\n",
      "Requirement already satisfied: torchvision in /usr/local/python/3.10.13/lib/python3.10/site-packages (0.17.1)\n",
      "Requirement already satisfied: torchaudio in /usr/local/python/3.10.13/lib/python3.10/site-packages (2.2.1)\n",
      "Requirement already satisfied: filelock in /home/codespace/.local/lib/python3.10/site-packages (from transformers) (3.13.1)\n",
      "Requirement already satisfied: huggingface-hub<1.0,>=0.19.3 in /usr/local/python/3.10.13/lib/python3.10/site-packages (from transformers) (0.20.3)\n",
      "Requirement already satisfied: numpy>=1.17 in /home/codespace/.local/lib/python3.10/site-packages (from transformers) (1.26.4)\n",
      "Requirement already satisfied: packaging>=20.0 in /home/codespace/.local/lib/python3.10/site-packages (from transformers) (23.2)\n",
      "Requirement already satisfied: pyyaml>=5.1 in /home/codespace/.local/lib/python3.10/site-packages (from transformers) (6.0.1)\n",
      "Requirement already satisfied: regex!=2019.12.17 in /usr/local/python/3.10.13/lib/python3.10/site-packages (from transformers) (2023.12.25)\n",
      "Requirement already satisfied: requests in /home/codespace/.local/lib/python3.10/site-packages (from transformers) (2.31.0)\n",
      "Requirement already satisfied: tokenizers<0.19,>=0.14 in /usr/local/python/3.10.13/lib/python3.10/site-packages (from transformers) (0.15.2)\n",
      "Requirement already satisfied: safetensors>=0.4.1 in /usr/local/python/3.10.13/lib/python3.10/site-packages (from transformers) (0.4.2)\n",
      "Requirement already satisfied: tqdm>=4.27 in /usr/local/python/3.10.13/lib/python3.10/site-packages (from transformers) (4.66.2)\n",
      "Requirement already satisfied: typing-extensions>=4.8.0 in /home/codespace/.local/lib/python3.10/site-packages (from torch) (4.9.0)\n",
      "Requirement already satisfied: sympy in /home/codespace/.local/lib/python3.10/site-packages (from torch) (1.12)\n",
      "Requirement already satisfied: networkx in /home/codespace/.local/lib/python3.10/site-packages (from torch) (3.2.1)\n",
      "Requirement already satisfied: jinja2 in /home/codespace/.local/lib/python3.10/site-packages (from torch) (3.1.3)\n",
      "Requirement already satisfied: fsspec in /home/codespace/.local/lib/python3.10/site-packages (from torch) (2024.2.0)\n",
      "Requirement already satisfied: nvidia-cuda-nvrtc-cu12==12.1.105 in /home/codespace/.local/lib/python3.10/site-packages (from torch) (12.1.105)\n",
      "Requirement already satisfied: nvidia-cuda-runtime-cu12==12.1.105 in /home/codespace/.local/lib/python3.10/site-packages (from torch) (12.1.105)\n",
      "Requirement already satisfied: nvidia-cuda-cupti-cu12==12.1.105 in /home/codespace/.local/lib/python3.10/site-packages (from torch) (12.1.105)\n",
      "Requirement already satisfied: nvidia-cudnn-cu12==8.9.2.26 in /home/codespace/.local/lib/python3.10/site-packages (from torch) (8.9.2.26)\n",
      "Requirement already satisfied: nvidia-cublas-cu12==12.1.3.1 in /home/codespace/.local/lib/python3.10/site-packages (from torch) (12.1.3.1)\n",
      "Requirement already satisfied: nvidia-cufft-cu12==11.0.2.54 in /home/codespace/.local/lib/python3.10/site-packages (from torch) (11.0.2.54)\n",
      "Requirement already satisfied: nvidia-curand-cu12==10.3.2.106 in /home/codespace/.local/lib/python3.10/site-packages (from torch) (10.3.2.106)\n",
      "Requirement already satisfied: nvidia-cusolver-cu12==11.4.5.107 in /home/codespace/.local/lib/python3.10/site-packages (from torch) (11.4.5.107)\n",
      "Requirement already satisfied: nvidia-cusparse-cu12==12.1.0.106 in /home/codespace/.local/lib/python3.10/site-packages (from torch) (12.1.0.106)\n",
      "Requirement already satisfied: nvidia-nccl-cu12==2.19.3 in /home/codespace/.local/lib/python3.10/site-packages (from torch) (2.19.3)\n",
      "Requirement already satisfied: nvidia-nvtx-cu12==12.1.105 in /home/codespace/.local/lib/python3.10/site-packages (from torch) (12.1.105)\n",
      "Requirement already satisfied: triton==2.2.0 in /home/codespace/.local/lib/python3.10/site-packages (from torch) (2.2.0)\n",
      "Requirement already satisfied: nvidia-nvjitlink-cu12 in /home/codespace/.local/lib/python3.10/site-packages (from nvidia-cusolver-cu12==11.4.5.107->torch) (12.3.101)\n",
      "Requirement already satisfied: pillow!=8.3.*,>=5.3.0 in /home/codespace/.local/lib/python3.10/site-packages (from torchvision) (10.2.0)\n",
      "Requirement already satisfied: MarkupSafe>=2.0 in /home/codespace/.local/lib/python3.10/site-packages (from jinja2->torch) (2.1.5)\n",
      "Requirement already satisfied: charset-normalizer<4,>=2 in /home/codespace/.local/lib/python3.10/site-packages (from requests->transformers) (3.3.2)\n",
      "Requirement already satisfied: idna<4,>=2.5 in /home/codespace/.local/lib/python3.10/site-packages (from requests->transformers) (3.6)\n",
      "Requirement already satisfied: urllib3<3,>=1.21.1 in /usr/local/python/3.10.13/lib/python3.10/site-packages (from requests->transformers) (2.0.7)\n",
      "Requirement already satisfied: certifi>=2017.4.17 in /home/codespace/.local/lib/python3.10/site-packages (from requests->transformers) (2024.2.2)\n",
      "Requirement already satisfied: mpmath>=0.19 in /home/codespace/.local/lib/python3.10/site-packages (from sympy->torch) (1.3.0)\n",
      "Note: you may need to restart the kernel to use updated packages.\n"
     ]
    }
   ],
   "source": [
    "%pip install transformers torch torchvision torchaudio"
   ]
  },
  {
   "cell_type": "code",
   "execution_count": 3,
   "metadata": {},
   "outputs": [
    {
     "name": "stderr",
     "output_type": "stream",
     "text": [
      "/home/codespace/.python/current/lib/python3.10/site-packages/tqdm/auto.py:21: TqdmWarning: IProgress not found. Please update jupyter and ipywidgets. See https://ipywidgets.readthedocs.io/en/stable/user_install.html\n",
      "  from .autonotebook import tqdm as notebook_tqdm\n"
     ]
    },
    {
     "name": "stderr",
     "output_type": "stream",
     "text": [
      "tokenizer_config.json: 100%|██████████| 337/337 [00:00<00:00, 1.04MB/s]\n",
      "vocab.json: 100%|██████████| 798k/798k [00:00<00:00, 993kB/s]\n",
      "merges.txt: 100%|██████████| 456k/456k [00:00<00:00, 756kB/s]\n",
      "tokenizer.json: 100%|██████████| 1.36M/1.36M [00:01<00:00, 1.35MB/s]\n",
      "special_tokens_map.json: 100%|██████████| 239/239 [00:00<00:00, 1.13MB/s]\n",
      "config.json: 100%|██████████| 1.59k/1.59k [00:00<00:00, 8.36MB/s]\n",
      "model.safetensors: 100%|██████████| 1.63G/1.63G [00:06<00:00, 240MB/s]\n"
     ]
    }
   ],
   "source": [
    "from transformers import AutoTokenizer, AutoModelForSeq2SeqLM\n",
    "\n",
    "tokenizer = AutoTokenizer.from_pretrained(\"knkarthick/MEETING_SUMMARY\", model_max_length=5000)\n",
    "model = AutoModelForSeq2SeqLM.from_pretrained(\"knkarthick/MEETING_SUMMARY\")"
   ]
  },
  {
   "cell_type": "code",
   "execution_count": 4,
   "metadata": {},
   "outputs": [
    {
     "name": "stdout",
     "output_type": "stream",
     "text": [
      "Original Text:\n",
      "\n",
      "Sarah: Good morning, everyone! Thank you for joining today's meeting. As we look forward to the future of our company, I'm excited to hear your insights and ideas on how we can continue to innovate and grow. Let's start by discussing our current strengths and areas for improvement.\n",
      "\n",
      "Michael: Our financials look strong, especially considering the challenges of the past year. However, I believe we need to diversify our revenue streams to ensure long-term stability.\n",
      "\n",
      "Rachel: I agree. We should explore new markets and possibly expand our product line to capture a larger share of the market.\n",
      "\n",
      "David: From a marketing perspective, I think we need to enhance our digital presence and invest more in targeted advertising to reach potential customers more effectively.\n",
      "\n",
      "Emily: Building on that, we should prioritize research and development to stay ahead of the competition. Innovation is key to sustaining our growth.\n",
      "\n",
      "Jason: Absolutely. Investing in new technologies like AI and automation can streamline our processes and improve the quality of our products.\n",
      "\n",
      "Lisa: As we expand, we also need to focus on talent acquisition and retention. Our employees are our most valuable asset, and we must nurture a culture of collaboration and innovation.\n",
      "\n",
      "Alex: On the sales front, we need to strengthen our relationships with existing clients while aggressively pursuing new opportunities. A proactive approach to sales will be crucial in driving revenue growth.\n",
      "\n",
      "Olivia: Customer experience is paramount. We need to ensure that every interaction with our brand leaves a positive impression, from pre-sales inquiries to post-purchase support.\n",
      "\n",
      "Daniel: As a senior advisor, I believe it's essential for us to stay agile and adaptable in the face of uncertainty. The business landscape is constantly evolving, and we must be prepared to pivot when necessary.\n",
      "\n",
      "Sarah: Thank you all for your valuable input. It's clear that there are exciting opportunities ahead for our company. Let's continue to work together to turn these visions into reality and achieve even greater success in the future.\n",
      "\n",
      "\n",
      "Summarized Text:\n",
      "Sarah, Michael, Rachel, David, Emily, Olivia, Jason, Lisa, Daniel and Lisa are meeting to discuss how they can continue to innovate and grow the business. They need to diversify revenue streams and increase market share. They also need to invest in research and development, improve the customer experience and attract and retain talented people. They must be agile and adaptable in order to stay relevant in the changing business landscape. Sarah welcomes them all and encourages them to work together to achieve even greater success. They agree on the need to stay focused on the business strategy.  .    \"   They are meeting today to discuss their business priorities and priorities. They are going to meet again in 2 weeks and then decide on the next steps. They decide to appoint a new board of directors to oversee the company. They will work on it then and decide on a formal proposal to the company's shareholders, which will be presented to them in person at the AGM in March.  \". ..  \". ..\"  ,   in the end. They all agree that there are exciting opportunities ahead for the company, and they agree to work on this plan. They want to be more effective marketers, sales and increasing the reach of the brand.\n"
     ]
    }
   ],
   "source": [
    "input_text = \"\"\"\n",
    "Sarah: Good morning, everyone! Thank you for joining today's meeting. As we look forward to the future of our company, I'm excited to hear your insights and ideas on how we can continue to innovate and grow. Let's start by discussing our current strengths and areas for improvement.\n",
    "\n",
    "Michael: Our financials look strong, especially considering the challenges of the past year. However, I believe we need to diversify our revenue streams to ensure long-term stability.\n",
    "\n",
    "Rachel: I agree. We should explore new markets and possibly expand our product line to capture a larger share of the market.\n",
    "\n",
    "David: From a marketing perspective, I think we need to enhance our digital presence and invest more in targeted advertising to reach potential customers more effectively.\n",
    "\n",
    "Emily: Building on that, we should prioritize research and development to stay ahead of the competition. Innovation is key to sustaining our growth.\n",
    "\n",
    "Jason: Absolutely. Investing in new technologies like AI and automation can streamline our processes and improve the quality of our products.\n",
    "\n",
    "Lisa: As we expand, we also need to focus on talent acquisition and retention. Our employees are our most valuable asset, and we must nurture a culture of collaboration and innovation.\n",
    "\n",
    "Alex: On the sales front, we need to strengthen our relationships with existing clients while aggressively pursuing new opportunities. A proactive approach to sales will be crucial in driving revenue growth.\n",
    "\n",
    "Olivia: Customer experience is paramount. We need to ensure that every interaction with our brand leaves a positive impression, from pre-sales inquiries to post-purchase support.\n",
    "\n",
    "Daniel: As a senior advisor, I believe it's essential for us to stay agile and adaptable in the face of uncertainty. The business landscape is constantly evolving, and we must be prepared to pivot when necessary.\n",
    "\n",
    "Sarah: Thank you all for your valuable input. It's clear that there are exciting opportunities ahead for our company. Let's continue to work together to turn these visions into reality and achieve even greater success in the future.\n",
    "\"\"\"\n",
    "\n",
    "inputs = tokenizer(input_text, return_tensors=\"pt\", max_length=5000, truncation=True)\n",
    "\n",
    "summary_ids = model.generate(inputs[\"input_ids\"], max_length=500, min_length=250, length_penalty=0.5, num_beams=4, early_stopping=False)\n",
    "\n",
    "summary = tokenizer.decode(summary_ids[0], skip_special_tokens=True)\n",
    "\n",
    "print(\"Original Text:\")\n",
    "print(input_text)\n",
    "print(\"\\nSummarized Text:\")\n",
    "print(summary)\n"
   ]
  },
  {
   "cell_type": "code",
   "execution_count": null,
   "metadata": {},
   "outputs": [],
   "source": []
  }
 ],
 "metadata": {
  "kernelspec": {
   "display_name": "Python 3 (ipykernel)",
   "language": "python",
   "name": "python3"
  },
  "language_info": {
   "codemirror_mode": {
    "name": "ipython",
    "version": 3
   },
   "file_extension": ".py",
   "mimetype": "text/x-python",
   "name": "python",
   "nbconvert_exporter": "python",
   "pygments_lexer": "ipython3",
   "version": "3.10.13"
  }
 },
 "nbformat": 4,
 "nbformat_minor": 4
}
