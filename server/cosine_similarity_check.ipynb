{
 "cells": [
  {
   "cell_type": "code",
   "execution_count": null,
   "metadata": {},
   "outputs": [],
   "source": [
    "%pip install sklearn"
   ]
  },
  {
   "cell_type": "code",
   "execution_count": null,
   "metadata": {},
   "outputs": [],
   "source": [
    "from sklearn.feature_extraction.text import TfidfVectorizer\n",
    "from sklearn.metrics.pairwise import cosine_similarity\n",
    "\n",
    "# Example texts\n",
    "text1 = \"in simple terms nlp works by breaking down human language into smaller smaller pieces that a computer can understand\"\n",
    "text2 = \"in simple terms nlp works by breaking breaking down human language into smaller pieces that a computer can understand\"\n",
    "\n",
    "# Preprocess and vectorize the texts\n",
    "vectorizer = TfidfVectorizer()\n",
    "vectorized_text1 = vectorizer.fit_transform([text1])\n",
    "vectorized_text2 = vectorizer.transform([text2])\n",
    "\n",
    "# Calculate cosine similarity\n",
    "cosine_sim = cosine_similarity(vectorized_text1, vectorized_text2)[0][0]\n",
    "\n",
    "# Convert similarity to percentage\n",
    "similarity_percentage = (cosine_sim + 1) * 50\n",
    "\n",
    "print(\"Similarity:\", similarity_percentage)\n"
   ]
  },
  {
   "cell_type": "code",
   "execution_count": null,
   "metadata": {},
   "outputs": [],
   "source": []
  }
 ],
 "metadata": {
  "kernelspec": {
   "display_name": "Python 3 (ipykernel)",
   "language": "python",
   "name": "python3"
  }
 },
 "nbformat": 4,
 "nbformat_minor": 4
}
